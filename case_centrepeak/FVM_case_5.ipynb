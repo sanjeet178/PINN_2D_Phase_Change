{
 "cells": [
  {
   "cell_type": "code",
   "execution_count": 2,
   "id": "1aee9aa3",
   "metadata": {
    "executionInfo": {
     "elapsed": 5138,
     "status": "ok",
     "timestamp": 1755366499438,
     "user": {
      "displayName": "Sanj",
      "userId": "08066474060852394723"
     },
     "user_tz": -330
    },
    "id": "1aee9aa3",
    "scrolled": true
   },
   "outputs": [],
   "source": [
    "import torch\n",
    "import torch\n",
    "import torch.nn as nn\n",
    "import torch.optim as optim\n",
    "import numpy as np\n",
    "import math\n",
    "import matplotlib.pyplot as plt\n",
    "import torch.nn.init as init\n",
    "import time\n",
    "import random\n",
    "import pandas as pd\n",
    "import openpyxl\n",
    "import logging\n",
    "from google.colab import drive\n",
    "from google.colab import auth\n",
    "from google.auth import default\n",
    "import gspread"
   ]
  },
  {
   "cell_type": "code",
   "execution_count": 3,
   "id": "21HUOMqD2kbV",
   "metadata": {
    "colab": {
     "base_uri": "https://localhost:8080/"
    },
    "executionInfo": {
     "elapsed": 57432,
     "status": "ok",
     "timestamp": 1755366556876,
     "user": {
      "displayName": "Sanj",
      "userId": "08066474060852394723"
     },
     "user_tz": -330
    },
    "id": "21HUOMqD2kbV",
    "outputId": "bce2f61d-2373-4f78-835e-f68c68027baf"
   },
   "outputs": [
    {
     "name": "stdout",
     "output_type": "stream",
     "text": [
      "Mounted at /content/drive\n"
     ]
    }
   ],
   "source": [
    "drive.mount('/content/drive')\n",
    "auth.authenticate_user()\n",
    "creds, _ = default()\n",
    "gc = gspread.authorize(creds)"
   ]
  },
  {
   "cell_type": "code",
   "execution_count": 4,
   "id": "xSkVUIA-ZsxR",
   "metadata": {
    "executionInfo": {
     "elapsed": 693,
     "status": "ok",
     "timestamp": 1755366557571,
     "user": {
      "displayName": "Sanj",
      "userId": "08066474060852394723"
     },
     "user_tz": -330
    },
    "id": "xSkVUIA-ZsxR"
   },
   "outputs": [],
   "source": [
    "# Define log file path in Google Drive\n",
    "log_file = \"/content/drive/MyDrive/NNOutputs/CFD.log\"\n",
    "\n",
    "# Create a custom logger\n",
    "logger = logging.getLogger()\n",
    "logger.setLevel(logging.INFO)\n",
    "\n",
    "# Clear previous handlers if re-running in Colab\n",
    "if logger.hasHandlers():\n",
    "    logger.handlers.clear()\n",
    "\n",
    "# Create file handler\n",
    "file_handler = logging.FileHandler(log_file, mode='w')\n",
    "file_handler.setFormatter(\n",
    "    logging.Formatter('[%(asctime)s] %(levelname)s: %(message)s',\n",
    "                      datefmt='%Y-%m-%d %H:%M:%S')\n",
    "    )\n",
    "\n",
    "# Add handler to logger\n",
    "logger.addHandler(file_handler)\n",
    "\n",
    "# Example usage\n",
    "logger.info(\"Logging setup complete.\")"
   ]
  },
  {
   "cell_type": "code",
   "execution_count": null,
   "id": "a7e5d099",
   "metadata": {
    "colab": {
     "base_uri": "https://localhost:8080/"
    },
    "executionInfo": {
     "elapsed": 53,
     "status": "ok",
     "timestamp": 1755366696004,
     "user": {
      "displayName": "Sanj",
      "userId": "08066474060852394723"
     },
     "user_tz": -330
    },
    "id": "a7e5d099",
    "outputId": "4067c220-d11f-4926-db70-3c289c837919"
   },
   "outputs": [],
   "source": [
    "#### material params:- RT-35, aluminum ####\n",
    "k_therm = 0.2\n",
    "L = 160000\n",
    "Cp = 2000\n",
    "rho = 800\n",
    "\n",
    "T_solidus = 305\n",
    "T_liquidus = 311\n",
    "\n",
    "#### Heat source ####\n",
    "s = 5000\n",
    "\n",
    "#### Normalising coeffs/ actual domain and temporal simulation params ####\n",
    "T_change = 0.2\n",
    "delta_x = 0.03\n",
    "delta_y = 0.03\n",
    "delta_t = 4000\n",
    "T_sc = (T_liquidus - T_solidus)/T_change\n",
    "\n",
    "#### Normalised Coefficients  ####\n",
    "k1 = k_therm/(rho*Cp*delta_x**2)*delta_t\n",
    "k2 = k_therm/(rho*(Cp+L/(T_liquidus - T_solidus))*delta_x**2)*delta_t\n",
    "s_norm = s*delta_t/(rho*Cp*T_sc)\n",
    "\n",
    "#### FVM Domain Parameters ####\n",
    "N_x = 81\n",
    "N_y = 81\n",
    "x_l = 0\n",
    "y_b = 0\n",
    "x_r = 1\n",
    "y_t = 1\n",
    "N_t = 300000\n",
    "dt = 0.00001\n",
    "\n",
    "#### Circular heat source ####\n",
    "x_c = 0.5\n",
    "y_c = 0.5\n",
    "\n",
    "# X, Y matrix\n",
    "X = np.linspace(x_l,x_r,N_x)\n",
    "dx = X[1] - X[0]\n",
    "X = np.tile(X,N_y)\n",
    "Y = np.linspace(y_b,y_t,N_y)\n",
    "dy = Y[1] - Y[0]\n",
    "Y = np.repeat(Y,N_x)\n",
    "X = np.reshape(X, (N_y,N_x))\n",
    "Y = np.reshape(Y, (N_y,N_x))\n",
    "dist = np.sqrt(( X - x_c )**2 + ( Y - y_c )**2)\n",
    "\n",
    "# liquid fraction, heat source and initial temperature matrix\n",
    "f = np.zeros((N_y,N_x))\n",
    "T = np.zeros((N_y,N_x))\n",
    "\n",
    "# cfd check\n",
    "k1*dt/dx**2, k2*dt/dx**2, s_norm, N_t*dt"
   ]
  },
  {
   "cell_type": "code",
   "execution_count": 8,
   "id": "1435571c",
   "metadata": {
    "executionInfo": {
     "elapsed": 41,
     "status": "ok",
     "timestamp": 1755366700686,
     "user": {
      "displayName": "Sanj",
      "userId": "08066474060852394723"
     },
     "user_tz": -330
    },
    "id": "1435571c"
   },
   "outputs": [],
   "source": [
    "aN = np.zeros((N_x,N_y))\n",
    "aS = np.zeros((N_x,N_y))\n",
    "aE = np.zeros((N_x,N_y))\n",
    "aW = np.zeros((N_x,N_y))\n",
    "aP = np.zeros((N_x,N_y))\n",
    "flag = np.zeros((N_x,N_y))\n",
    "\n",
    "for i in range(N_x):\n",
    "    for j in range(N_y):\n",
    "\n",
    "        if Y[i, j]!=y_t:\n",
    "            aN[i, j] = k2*dt/dy**2\n",
    "\n",
    "        if Y[i, j]!=y_b:\n",
    "            aS[i, j] = k2*dt/dy**2\n",
    "\n",
    "        if X[i, j]!=x_l:\n",
    "            aW[i, j] = k2*dt/dx**2\n",
    "\n",
    "        if X[i, j]!=x_r:\n",
    "            aE[i, j] = k2*dt/dx**2\n",
    "\n",
    "        aP[i, j] = 1 - (aN[i, j] + aS[i, j] + aW[i, j] + aE[i, j])"
   ]
  },
  {
   "cell_type": "code",
   "execution_count": 9,
   "id": "28d45fa4-7e66-4346-9aff-2167aa142982",
   "metadata": {
    "executionInfo": {
     "elapsed": 1715577,
     "status": "ok",
     "timestamp": 1755368418451,
     "user": {
      "displayName": "Sanj",
      "userId": "08066474060852394723"
     },
     "user_tz": -330
    },
    "id": "28d45fa4-7e66-4346-9aff-2167aa142982",
    "scrolled": true
   },
   "outputs": [],
   "source": [
    "storage_interval = 10000\n",
    "\n",
    "T_str = []\n",
    "T_str.append(np.copy(T))\n",
    "T_new = np.copy(T)\n",
    "\n",
    "f_str = []\n",
    "f_str.append(np.copy(f))\n",
    "f_new = np.copy(f)\n",
    "\n",
    "# with pd.ExcelWriter(\"resultsradialsource.xlsx\", engine=\"openpyxl\") as writer:\n",
    "spreadsheet = gc.create('resultsradialsource_5k')\n",
    "\n",
    "for t in range(N_t):\n",
    "\n",
    "    if t%100 == 0:\n",
    "        t_val = (t+1) * dt\n",
    "        center_temp = T_new[int(N_y/2), int(N_x/2)]\n",
    "        edge_temp = T_new[int(N_y/2), 0]\n",
    "        logging.info(f\"iteration = {t}, t = {t_val:.6f}, cfd center temp = {center_temp:.6e}, edge temp at centerline = {edge_temp:.6e}\")\n",
    "\n",
    "    T = np.copy(T_new)\n",
    "    f = np.copy(f_new)\n",
    "\n",
    "    # Temperature Update\n",
    "    for i in range(N_y):\n",
    "        for j in range(N_x):\n",
    "\n",
    "            if ( X[i, j]!=x_l and X[i, j]!=x_r and Y[i, j]!=y_t and Y[i, j]!=y_b ):\n",
    "\n",
    "                T_new[i, j] = ( aN[i, j]*T[i+1][j] + aS[i, j]*T[i-1][j] +\n",
    "                                aW[i, j]*T[i][j-1] + aE[i, j]*T[i][j+1] + aP[i, j]*T[i, j] + s_norm*(1-dist[i, j]/0.71)*dt)\n",
    "\n",
    "                f_new[i, j] = T_new[i, j]/T_change\n",
    "\n",
    "    # LEFT BOUNDARY\n",
    "    for i in range(1, N_y - 1):\n",
    "        j=0\n",
    "        T_new[i, j] = T_new[i, j+1]\n",
    "        f_new[i, j] = (T_new[i, j] /T_change)\n",
    "\n",
    "    # RIGHT BOUNDARY\n",
    "    for i in range(1, N_y - 1):\n",
    "        j=N_x-1\n",
    "        T_new[i, j] = T_new[i, j-1]\n",
    "        f_new[i, j] = (T_new[i, j] /T_change)\n",
    "\n",
    "    # BOTTOM BOUNDARY\n",
    "    for j in range(1, N_x - 1):\n",
    "        i=0\n",
    "        T_new[i, j] = T_new[i+1, j]\n",
    "        f_new[i, j] = (T_new[i, j] /T_change)\n",
    "\n",
    "    # TOP BOUNDARY\n",
    "    for j in range(1, N_x - 1):\n",
    "        i=N_y-1\n",
    "        T_new[i, j]  = T_new[i-1, j]\n",
    "        f_new[i, j] = (T_new[i, j] /T_change)\n",
    "\n",
    "    # CORNER 1\n",
    "    i=0\n",
    "    j=0\n",
    "    T_new[i, j]  = (T_new[i+1, j]  + T_new[i, j+1])/2\n",
    "    f_new[i, j]  = (T_new[i, j] /T_change)\n",
    "\n",
    "    # CORNER 2\n",
    "    i=0\n",
    "    j=N_x-1\n",
    "    T_new[i, j]  = (T_new[i+1, j]  + T_new[i, j-1])/2\n",
    "    f_new[i, j]  = (T_new[i, j] /T_change)\n",
    "\n",
    "    # CORNER 3\n",
    "    i=N_y-1\n",
    "    j=0\n",
    "    T_new[i, j]  = (T_new[i-1, j] + T_new[i, j+1])/2\n",
    "    f_new[i, j]  = (T_new[i, j] /T_change)\n",
    "\n",
    "    # CORNER 4\n",
    "    i=N_y-1\n",
    "    j=N_x-1\n",
    "    T_new[i, j]  = (T_new[i-1, j] + T_new[i, j-1])/2\n",
    "    f_new[i, j]  = (T_new[i, j] /T_change)\n",
    "\n",
    "\n",
    "######### Liquid Fraction Update #########\n",
    "    for i in range(N_y):\n",
    "        for j in range(N_x):\n",
    "\n",
    "            if T_new[i, j]>=T_change or f_new[i, j]>=1:\n",
    "\n",
    "                if Y[i, j]!=y_t:\n",
    "                    aN[i, j] = k1*dt/dy**2\n",
    "\n",
    "                if Y[i, j]!=y_b:\n",
    "                    aS[i, j] = k1*dt/dy**2\n",
    "\n",
    "                if X[i, j]!=x_l:\n",
    "                    aW[i, j] = k1*dt/dx**2\n",
    "\n",
    "                if X[i, j]!=x_r:\n",
    "                    aE[i, j] = k1*dt/dx**2\n",
    "\n",
    "                aP[i, j] = 1 - (aN[i, j] + aS[i, j] + aW[i, j] + aE[i, j])\n",
    "\n",
    "    if (t+1)%500==0 or t==0:\n",
    "        T_str.append(np.copy(T_new))\n",
    "        f_str.append(np.copy(f_new))\n",
    "        # df = pd.DataFrame(T_new)\n",
    "        sheet_name = f\"t_{(t+1)*dt}\"\n",
    "        try:\n",
    "            worksheet = spreadsheet.worksheet(sheet_name)\n",
    "        except gspread.WorksheetNotFound:\n",
    "            worksheet = spreadsheet.add_worksheet(title=sheet_name, rows=N_y, cols=N_x)\n",
    "        worksheet.update([row.tolist() for row in T_new])\n",
    "        # df.to_excel(writer, sheet_name=sheet_name, index=False)\n",
    "        t_val = (t+1) * dt\n",
    "        center_temp = T_new[int(N_y/2), int(N_x/2)]\n",
    "        edge_temp = T_new[int(N_y/2),0]\n",
    "        logging.info(f\"saved. t = {t_val:.6f}, center temp = {center_temp:.6e}, edge temp at centerline = {edge_temp:.6e}\")\n"
   ]
  },
  {
   "cell_type": "code",
   "execution_count": null,
   "id": "6208a6df",
   "metadata": {
    "id": "6208a6df"
   },
   "outputs": [],
   "source": []
  }
 ],
 "metadata": {
  "colab": {
   "provenance": []
  },
  "kernelspec": {
   "display_name": "Python 3",
   "name": "python3"
  },
  "language_info": {
   "codemirror_mode": {
    "name": "ipython",
    "version": 3
   },
   "file_extension": ".py",
   "mimetype": "text/x-python",
   "name": "python",
   "nbconvert_exporter": "python",
   "pygments_lexer": "ipython3",
   "version": "3.13.3"
  }
 },
 "nbformat": 4,
 "nbformat_minor": 5
}
