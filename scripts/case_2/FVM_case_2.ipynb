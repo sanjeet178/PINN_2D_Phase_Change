{
 "cells": [
  {
   "cell_type": "code",
   "execution_count": 13,
   "id": "1aee9aa3",
   "metadata": {},
   "outputs": [],
   "source": [
    "import torch\n",
    "import torch.nn as nn\n",
    "import torch.optim as optim\n",
    "import numpy as np\n",
    "import math\n",
    "import matplotlib.pyplot as plt\n",
    "import torch.nn.init as init\n",
    "import time\n",
    "import random\n",
    "import pandas as pd\n",
    "import openpyxl"
   ]
  },
  {
   "cell_type": "code",
   "execution_count": 14,
   "id": "4c397c7f",
   "metadata": {},
   "outputs": [
    {
     "name": "stdout",
     "output_type": "stream",
     "text": [
      "k1 =  0.375  k2 =  0.03409090909090909  q_norm =  0.9843749999999999\n",
      "cfd_check =  0.023999999999999997\n"
     ]
    }
   ],
   "source": [
    "N_x = 81\n",
    "N_y = 81\n",
    "\n",
    "x_l = 0\n",
    "y_b = 0\n",
    "x_r = 1\n",
    "y_t = 1\n",
    "\n",
    "N_t = 250000\n",
    "dt = 0.00001\n",
    "\n",
    "f_lim = 1\n",
    "\n",
    "# material params:- RT-35\n",
    "k_therm = 0.2\n",
    "L = 160000\n",
    "Cp = 2000\n",
    "rho = 800 \n",
    "T_solidus = 305\n",
    "T_liquidus = 313\n",
    "\n",
    "### Assumed boundary conditions ####\n",
    "q = 450\n",
    "\n",
    "#### Normalising coeffs #####\n",
    "T_change = 0.35\n",
    "# T_change = 0.25\n",
    "delta_x = 0.01\n",
    "delta_y = 0.01\n",
    "# delta_T = (1 - T_change)*(T_liquidus - T_solidus)/T_change\n",
    "delta_T = (T_liquidus - T_solidus)/T_change\n",
    "\n",
    "#### k1 ###\n",
    "k1 = k_therm/(rho*Cp*delta_x**2)*300\n",
    "\n",
    "### k2 ###\n",
    "k2 = k_therm/(rho*(Cp+L/(T_liquidus - T_solidus))*delta_x**2)*300\n",
    "\n",
    "#### q_bnorm #####\n",
    "q_norm = q*delta_x/(k_therm*delta_T)\n",
    "\n",
    "print('k1 = ',k1,' k2 = ', k2, ' q_norm = ', q_norm)\n",
    "\n",
    "cfd_check = k1*dt/( (x_r-x_l)/(N_x-1) )**2\n",
    "print('cfd_check = ', cfd_check)"
   ]
  },
  {
   "cell_type": "code",
   "execution_count": 15,
   "id": "39f4c928",
   "metadata": {},
   "outputs": [],
   "source": [
    "# X, Y matrix\n",
    "X = np.linspace(x_l,x_r,N_x)\n",
    "dx = X[1] - X[0]\n",
    "X = np.tile(X,N_y)\n",
    "X = np.reshape(X, (N_x,N_y))\n",
    "\n",
    "Y = np.linspace(y_b,y_t,N_y)\n",
    "dy = Y[1] - Y[0]\n",
    "Y = np.repeat(Y,N_x)\n",
    "Y = np.reshape(Y, (N_x,N_y))\n",
    "\n",
    "# liquid fraction, battery and initial temperature matrix\n",
    "f = np.zeros((N_x,N_y))\n",
    "T = np.zeros((N_x,N_y))\n",
    "\n",
    "# for i in range(N_y):\n",
    "#     for j in range(N_x):\n",
    "\n",
    "#         if i==0 or j==0:\n",
    "#             T[i][j] = 1\n",
    "#             f[i][j] = 1"
   ]
  },
  {
   "cell_type": "code",
   "execution_count": 16,
   "id": "1435571c",
   "metadata": {},
   "outputs": [],
   "source": [
    "aN = np.zeros((N_x,N_y))\n",
    "aS = np.zeros((N_x,N_y))\n",
    "aE = np.zeros((N_x,N_y))\n",
    "aW = np.zeros((N_x,N_y))\n",
    "aP = np.zeros((N_x,N_y))\n",
    "flag = np.zeros((N_x,N_y))\n",
    "\n",
    "for i in range(N_x):\n",
    "    for j in range(N_y):\n",
    "        \n",
    "        if Y[i][j]!=y_t:\n",
    "            aN[i][j] = k2*dt/dy**2\n",
    "            \n",
    "        if Y[i][j]!=y_b:\n",
    "            aS[i][j] = k2*dt/dy**2\n",
    "        \n",
    "        if X[i][j]!=x_l:\n",
    "            aW[i][j] = k2*dt/dx**2\n",
    "            \n",
    "        if X[i][j]!=x_r:\n",
    "            aE[i][j] = k2*dt/dx**2\n",
    "            \n",
    "        aP[i][j] = 1 - (aN[i][j] + aS[i][j] + aW[i][j] + aE[i][j])"
   ]
  },
  {
   "cell_type": "code",
   "execution_count": 17,
   "id": "7ba6d057-3c36-4942-9aad-3002bb634d26",
   "metadata": {},
   "outputs": [
    {
     "data": {
      "text/plain": [
       "array([[0.99563636, 0.99345455, 0.99345455, ..., 0.99345455, 0.99345455,\n",
       "        0.99563636],\n",
       "       [0.99345455, 0.99127273, 0.99127273, ..., 0.99127273, 0.99127273,\n",
       "        0.99345455],\n",
       "       [0.99345455, 0.99127273, 0.99127273, ..., 0.99127273, 0.99127273,\n",
       "        0.99345455],\n",
       "       ...,\n",
       "       [0.99345455, 0.99127273, 0.99127273, ..., 0.99127273, 0.99127273,\n",
       "        0.99345455],\n",
       "       [0.99345455, 0.99127273, 0.99127273, ..., 0.99127273, 0.99127273,\n",
       "        0.99345455],\n",
       "       [0.99563636, 0.99345455, 0.99345455, ..., 0.99345455, 0.99345455,\n",
       "        0.99563636]])"
      ]
     },
     "execution_count": 17,
     "metadata": {},
     "output_type": "execute_result"
    }
   ],
   "source": [
    "aP"
   ]
  },
  {
   "cell_type": "code",
   "execution_count": 18,
   "id": "28d45fa4-7e66-4346-9aff-2167aa142982",
   "metadata": {
    "scrolled": true
   },
   "outputs": [
    {
     "name": "stdout",
     "output_type": "stream",
     "text": [
      "t =  1e-05\n",
      "Unexpected exception formatting exception. Falling back to standard exception\n"
     ]
    },
    {
     "name": "stderr",
     "output_type": "stream",
     "text": [
      "Traceback (most recent call last):\n",
      "  File \"C:\\Users\\USER\\AppData\\Local\\Programs\\Python\\Python310\\lib\\site-packages\\IPython\\core\\interactiveshell.py\", line 3369, in run_code\n",
      "    exec(code_obj, self.user_global_ns, self.user_ns)\n",
      "  File \"C:\\Users\\USER\\AppData\\Local\\Temp\\ipykernel_10148\\319715882.py\", line -1, in <cell line: 11>\n",
      "KeyboardInterrupt\n",
      "\n",
      "During handling of the above exception, another exception occurred:\n",
      "\n",
      "Traceback (most recent call last):\n",
      "  File \"C:\\Users\\USER\\AppData\\Local\\Programs\\Python\\Python310\\lib\\site-packages\\IPython\\core\\interactiveshell.py\", line 1982, in showtraceback\n",
      "    stb = self.InteractiveTB.structured_traceback(\n",
      "  File \"C:\\Users\\USER\\AppData\\Local\\Programs\\Python\\Python310\\lib\\site-packages\\IPython\\core\\ultratb.py\", line 1118, in structured_traceback\n",
      "    return FormattedTB.structured_traceback(\n",
      "  File \"C:\\Users\\USER\\AppData\\Local\\Programs\\Python\\Python310\\lib\\site-packages\\IPython\\core\\ultratb.py\", line 1012, in structured_traceback\n",
      "    return VerboseTB.structured_traceback(\n",
      "  File \"C:\\Users\\USER\\AppData\\Local\\Programs\\Python\\Python310\\lib\\site-packages\\IPython\\core\\ultratb.py\", line 865, in structured_traceback\n",
      "    formatted_exception = self.format_exception_as_a_whole(etype, evalue, etb, number_of_lines_of_context,\n",
      "  File \"C:\\Users\\USER\\AppData\\Local\\Programs\\Python\\Python310\\lib\\site-packages\\IPython\\core\\ultratb.py\", line 818, in format_exception_as_a_whole\n",
      "    frames.append(self.format_record(r))\n",
      "  File \"C:\\Users\\USER\\AppData\\Local\\Programs\\Python\\Python310\\lib\\site-packages\\IPython\\core\\ultratb.py\", line 736, in format_record\n",
      "    result += ''.join(_format_traceback_lines(frame_info.lines, Colors, self.has_colors, lvals))\n",
      "  File \"C:\\Users\\USER\\AppData\\Local\\Programs\\Python\\Python310\\lib\\site-packages\\stack_data\\utils.py\", line 145, in cached_property_wrapper\n",
      "    value = obj.__dict__[self.func.__name__] = self.func(obj)\n",
      "  File \"C:\\Users\\USER\\AppData\\Local\\Programs\\Python\\Python310\\lib\\site-packages\\stack_data\\core.py\", line 698, in lines\n",
      "    pieces = self.included_pieces\n",
      "  File \"C:\\Users\\USER\\AppData\\Local\\Programs\\Python\\Python310\\lib\\site-packages\\stack_data\\utils.py\", line 145, in cached_property_wrapper\n",
      "    value = obj.__dict__[self.func.__name__] = self.func(obj)\n",
      "  File \"C:\\Users\\USER\\AppData\\Local\\Programs\\Python\\Python310\\lib\\site-packages\\stack_data\\core.py\", line 649, in included_pieces\n",
      "    pos = scope_pieces.index(self.executing_piece)\n",
      "  File \"C:\\Users\\USER\\AppData\\Local\\Programs\\Python\\Python310\\lib\\site-packages\\stack_data\\utils.py\", line 145, in cached_property_wrapper\n",
      "    value = obj.__dict__[self.func.__name__] = self.func(obj)\n",
      "  File \"C:\\Users\\USER\\AppData\\Local\\Programs\\Python\\Python310\\lib\\site-packages\\stack_data\\core.py\", line 628, in executing_piece\n",
      "    return only(\n",
      "  File \"C:\\Users\\USER\\AppData\\Local\\Programs\\Python\\Python310\\lib\\site-packages\\executing\\executing.py\", line 164, in only\n",
      "    raise NotOneValueFound('Expected one value, found 0')\n",
      "executing.executing.NotOneValueFound: Expected one value, found 0\n"
     ]
    }
   ],
   "source": [
    "storage_interval = 10000\n",
    "\n",
    "T_str = []\n",
    "T_str.append(np.copy(T))\n",
    "T_new = np.copy(T)\n",
    "\n",
    "f_str = []\n",
    "f_str.append(np.copy(f))\n",
    "f_new = np.copy(f)      \n",
    "\n",
    "for t in range(N_t):\n",
    "    if t%10000==0:\n",
    "        print('t = ',(t+1)*dt)\n",
    "    \n",
    "    T = np.copy(T_new)\n",
    "    f = np.copy(f_new)\n",
    "\n",
    "    # Temperature Update\n",
    "    for i in range(N_y):\n",
    "        for j in range(N_x):\n",
    "\n",
    "            if ( X[i][j]!=x_l and X[i][j]!=x_r and Y[i][j]!=y_t and Y[i][j]!=y_b ):\n",
    "                \n",
    "                T_new[i][j] = ( aN[i][j]*T[i+1][j] + aS[i][j]*T[i-1][j] + \n",
    "                                   aW[i][j]*T[i][j-1] + aE[i][j]*T[i][j+1] + aP[i][j]*T[i][j] )\n",
    "                \n",
    "                f_new[i][j] = T_new[i][j]/T_change\n",
    "\n",
    "    # LEFT BOUNDARY\n",
    "    for i in range(1, N_y - 1):\n",
    "        T_new[i][0] = q_norm*dx + T_new[i][1]\n",
    "        f_new[i][0] = T_new[i][0]/T_change\n",
    "\n",
    "    # BOTTOM BOUNDARY\n",
    "    for j in range(1, N_x - 1):\n",
    "        T_new[0][j] = q_norm*dy + T_new[1][j]\n",
    "        f_new[0][j] = T_new[0][j]/T_change\n",
    "\n",
    "    # TOP BOUNDARY\n",
    "    for i in [N_y-1]:\n",
    "        for j in range(N_x):\n",
    "            T_new[i][j] = T_new[i-1][j]\n",
    "            f_new[i][j] = T_new[i][j]/T_change\n",
    "    # RIGHT BOUNDARY\n",
    "    for j in [N_x-1]:\n",
    "        for i in range(N_y):\n",
    "            T_new[i][j] = T_new[i][j-1]\n",
    "            f_new[i][j] = T_new[i][j]/T_change\n",
    "\n",
    "    # CORNER POINT\n",
    "    T_new[0][0] = q_norm*dx + T_new[1][0] \n",
    "    f_new[0][0] = T_new[0][0]/T_change\n",
    "\n",
    "    ######### Liquid Fraction Update #########\n",
    "    for i in range(N_y):\n",
    "        for j in range(N_x):\n",
    "        \n",
    "            if T_new[i][j]>=T_change or f_new[i][j]>=1:\n",
    "\n",
    "                f_new[i][j] = 1\n",
    "\n",
    "                if Y[i][j]!=y_t:\n",
    "                    aN[i][j] = k1*dt/dy**2\n",
    "\n",
    "                if Y[i][j]!=y_b:\n",
    "                    aS[i][j] = k1*dt/dy**2\n",
    "\n",
    "                if X[i][j]!=x_l:\n",
    "                    aW[i][j] = k1*dt/dx**2\n",
    "\n",
    "                if X[i][j]!=x_r:\n",
    "                    aE[i][j] = k1*dt/dx**2\n",
    "\n",
    "                aP[i][j] = 1 - (aN[i][j] + aS[i][j] + aW[i][j] + aE[i][j])\n",
    "\n",
    "    if (t+1)%storage_interval==0:\n",
    "        T_str.append(np.copy(T_new))\n",
    "        f_str.append(np.copy(f_new))"
   ]
  },
  {
   "cell_type": "code",
   "execution_count": null,
   "id": "3e808a77-c7eb-4960-9a24-edc9ec7d1a82",
   "metadata": {},
   "outputs": [],
   "source": [
    "t"
   ]
  },
  {
   "cell_type": "code",
   "execution_count": null,
   "id": "85e1d3f8",
   "metadata": {
    "scrolled": true
   },
   "outputs": [],
   "source": [
    "# Temperature plots\n",
    "k = 0\n",
    "for i in range(len(T_str)):\n",
    "    \n",
    "    plt.figure()\n",
    "    plt.figure(figsize=(5,4))\n",
    "    sc = plt.scatter(X, Y, c = T_str[i], cmap=plt.cm.jet)\n",
    "    plt.colorbar(sc)\n",
    "    plt.clim(0, 0.6)\n",
    "    plt.title('t = '+ str(round(i*storage_interval*dt, 2)) +', Temperature plot')\n",
    "\n",
    "plt.show()"
   ]
  },
  {
   "cell_type": "code",
   "execution_count": null,
   "id": "ae5f6b85",
   "metadata": {
    "scrolled": true
   },
   "outputs": [],
   "source": [
    "# Liquid Fraction plots\n",
    "k = 0\n",
    "for i in range(len(T_str)):\n",
    "    \n",
    "    plt.figure()\n",
    "    plt.figure(figsize=(5,4))\n",
    "    sc = plt.scatter(X, Y, c = T_str[i]>0.35, cmap=plt.cm.jet)\n",
    "    plt.colorbar(sc)\n",
    "    plt.clim(0, 1)\n",
    "    plt.title('t = '+  str(round(i*storage_interval*dt, 2)) +', Liquid Fraction plot')\n",
    "\n",
    "plt.show()"
   ]
  },
  {
   "cell_type": "code",
   "execution_count": null,
   "id": "3f127cbc-db4c-48e3-8665-2dd66c48516a",
   "metadata": {},
   "outputs": [],
   "source": [
    "T_str[-1]"
   ]
  },
  {
   "cell_type": "code",
   "execution_count": null,
   "id": "e19def6a-b442-45ca-be44-3af04370ef9a",
   "metadata": {},
   "outputs": [],
   "source": [
    "# Store arrays in excel file\n",
    "\n",
    "workbook = openpyxl.Workbook()\n",
    "i = 0\n",
    "for arr in T_str:\n",
    "    # Create two sheets in the workbook\n",
    "    sheet = workbook.create_sheet(title=\"t = \"+ str(round(i*storage_interval*dt, 2)))\n",
    "    # Populate the first sheet with data from the first array\n",
    "    array = arr.tolist()\n",
    "    for row in array:\n",
    "        sheet.append(row)\n",
    "    i = i+1\n",
    "\n",
    "# Save the workbook to the specified file\n",
    "file_name = \"2d_2side_heating.xlsx\"\n",
    "workbook.save(file_name)\n",
    "print(f\"Data saved to {file_name}\")"
   ]
  },
  {
   "cell_type": "code",
   "execution_count": null,
   "id": "1a00e734-8f16-43d9-bd17-41e488588ae1",
   "metadata": {
    "scrolled": true
   },
   "outputs": [],
   "source": [
    "# Data for creating graphs\n",
    "x = X[0]\n",
    "T = []\n",
    "for i in range(25):\n",
    "    T.append(T_str[-1][i][i])\n",
    "# T = T_str[-1][16]\n",
    "df = pd.DataFrame(list(zip(x, T)), columns = ['x', 'Temperature'])\n",
    "df\n",
    "df.to_excel(\"cfd_2sideflux_diagonal.xlsx\")"
   ]
  }
 ],
 "metadata": {
  "kernelspec": {
   "display_name": "Python 3 (ipykernel)",
   "language": "python",
   "name": "python3"
  },
  "language_info": {
   "codemirror_mode": {
    "name": "ipython",
    "version": 3
   },
   "file_extension": ".py",
   "mimetype": "text/x-python",
   "name": "python",
   "nbconvert_exporter": "python",
   "pygments_lexer": "ipython3",
   "version": "3.10.4"
  }
 },
 "nbformat": 4,
 "nbformat_minor": 5
}
